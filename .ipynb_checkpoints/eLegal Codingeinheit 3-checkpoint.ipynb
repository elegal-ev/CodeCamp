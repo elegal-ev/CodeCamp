{
 "cells": [
  {
   "cell_type": "markdown",
   "metadata": {},
   "source": [
    "# Booleans\n",
    "Booleans sind Wahrheitswerte. Diese fassen einen Gesamtausdruck in Wahr oder Falsch zusammen. \n",
    "\n",
    "(Binaer 0/1; logisch w/f; python `True`/`False`)"
   ]
  },
  {
   "cell_type": "code",
   "execution_count": null,
   "metadata": {},
   "outputs": [],
   "source": [
    "x = True\n",
    "# Wir weisen der Variable x eine wahre Aussage zu.\n",
    "\"\"\"Eine Aussage ist ein aus Wörtern \n",
    "und/oder mathematischen Zeichen \n",
    "aufgebauter Ausdruck,\n",
    "von dem es möglich und sinnvoll ist zu sagen,\n",
    "dass dieser Ausdruck wahr oder falsch ist.\"\"\"\n",
    "\n",
    "print(x) # True\n",
    "\n",
    "print(5 < 3) # False\n",
    "print(5 > 3) # True\n",
    "print(3 ==  3) # True\n",
    "print(3 >= 3) # True\n",
    "print(not False) # True\n",
    "print(5 != 4) # True, hierbei bedeutet das != \"nicht gleich\"\n",
    "print(not not not True) # False\n",
    "print(54.4 <= 144.2) # True\n",
    "print(not not x) # True\n",
    "print(not x) # False\n",
    "\n",
    "# Nun dein eigenes Beispiel!\n",
    "print()"
   ]
  },
  {
   "cell_type": "markdown",
   "metadata": {},
   "source": [
    "Hiebei ist der Unterschied zwischen `=` und `==` relevant.\n",
    "\n",
    "- `x = 4` ist die Zuweisung. (Der Variable `x` wird den Wert `4` zugewiesen)\n",
    "- `x == 4` ist der Logische Vergleich (Der Wert der Variable `x` wird auf Gleichheit mit `4` ueberprueft) \n",
    "\n",
    "\n",
    "Vertiefe dein Wissen, indem du folgenden Code ausfuehrst:"
   ]
  },
  {
   "cell_type": "code",
   "execution_count": 1,
   "metadata": {},
   "outputs": [
    {
     "name": "stdout",
     "output_type": "stream",
     "text": [
      "1 True\n",
      "2 False\n",
      "3 False\n",
      "4 True\n",
      "5 True\n",
      "6 True\n",
      "7 False\n",
      "8 True\n",
      "9 False\n",
      "10 False\n",
      "11 True\n",
      "12 False\n",
      "13 True\n",
      "14 False\n",
      "15 False\n",
      "16 False\n",
      "17 True\n",
      "18 True\n",
      "19 False\n",
      "20 False\n"
     ]
    }
   ],
   "source": [
    "print(\"1\", True and True) # 1 True\n",
    "print(\"2\", False and True) # 2 ...\n",
    "print(\"3\", 1 == 1 and 2 == 1)\n",
    "print(\"4\", \"test\" == \"test\")\n",
    "print(\"5\", 1 == 1 or 2 != 1)\n",
    "print(\"6\", True and 1 == 1)\n",
    "print(\"7\", False and 0 != 0)\n",
    "print(\"8\", True or 1 == 1)\n",
    "print(\"9\", \"test\" == \"testing\")\n",
    "print(\"10\", 1 != 0 and 2 == 1)\n",
    "print(\"11\", \"test\" != \"testing\")\n",
    "print(\"12\", \"test\" == 1)\n",
    "print(\"13\", not (True and False))\n",
    "print(\"14\", not (1 == 1 and 0 != 1))\n",
    "print(\"15\", not (10 == 1 or 1000 == 1000))\n",
    "print(\"16\", not (1 != 10 or 3 == 4))\n",
    "print(\"17\", not (\"testing\" == \"testing\" and \"Zed\" == \"Cool Guy\"))\n",
    "print(\"18\", 1 == 1 and not (\"testing\" == 1 or 1 == 0))\n",
    "print(\"19\", \"chunky\" == \"bacon\" and not (3 == 4 or 3 == 3))\n",
    "print(\"20\", 3 == 3 and not (\"testing\" == \"testing\" or \"Python\" == \"Fun\"))"
   ]
  },
  {
   "cell_type": "markdown",
   "metadata": {},
   "source": [
    "# Kontrollflüsse\n",
    "Kontrolflüsse sollten euch bereits aus dem Studium bekannt sein. Genutzt werden sie um Entscheidungen basierend auf dem Vorliegen etwaiger Voraussetzungen zu fällen."
   ]
  },
  {
   "cell_type": "code",
   "execution_count": null,
   "metadata": {},
   "outputs": [],
   "source": [
    "x = 2\n",
    "\n",
    "if x > 1:\n",
    "    print(\"X ist größer als 2\")\n",
    "else:\n",
    "    print(\"X ist nicht größer als 2\")"
   ]
  },
  {
   "cell_type": "markdown",
   "metadata": {},
   "source": [
    "Konkret bedeutet es also: wenn X vorliegt führe Y aus.\n",
    "Vergleichbar ist dies mit juristischen Tatbeständen."
   ]
  },
  {
   "cell_type": "code",
   "execution_count": null,
   "metadata": {},
   "outputs": [],
   "source": [
    "gegenstand = \"Pokal\"\n",
    "sache = True\n",
    "fremd = True\n",
    "beschädigt = False\n",
    "zerstört = True\n",
    "objektiver_tatbestand_303_I_stgb = False\n",
    "\n",
    "if sache == True:\n",
    "    if fremd == True:\n",
    "        if beschädigt == True:\n",
    "            objektiver_tatbestand_303_I_stgb = True\n",
    "        elif zerstört == True:\n",
    "            objektiver_tatbestand_303_I_stgb = True\n",
    "      \n",
    "if objektiver_tatbestand_303_I_stgb == True:\n",
    "    print(\"Der objektive Tatbestand von § 303 I Stgb ist im Falle vom \" + gegenstand + \" erfüllt\")  "
   ]
  },
  {
   "cell_type": "markdown",
   "metadata": {},
   "source": [
    "Eine Besonderheit von einigen Sprachen, wie auch Python, ist, dass man die obige Logik (z.b. \"`if fremd == True`\") auch versimplifiziert Darstellen kann. aus \"`if fremd == True`\" wird \"`if fremd`\"\n",
    "Wendet man dieses Wissen an, so ergibt sich folgendes Bild"
   ]
  },
  {
   "cell_type": "code",
   "execution_count": null,
   "metadata": {},
   "outputs": [],
   "source": [
    "gegenstand = \"Pokal\"\n",
    "sache = True\n",
    "fremd = True\n",
    "beschädigt = False\n",
    "zerstört = True\n",
    "objektiver_tatbestand_303_I_stgb = False\n",
    "\n",
    "if sache:\n",
    "    if fremd:\n",
    "        if beschädigt:\n",
    "            objektiver_tatbestand_303_I_stgb = True\n",
    "        elif zerstört:\n",
    "            objektiver_tatbestand_303_I_stgb = True\n",
    "      \n",
    "if objektiver_tatbestand_303_I_stgb:\n",
    "    print(\"Der objektive Tatbestand von § 303 I Stgb ist im Falle vom \" + gegenstand + \" erfüllt\")"
   ]
  },
  {
   "cell_type": "markdown",
   "metadata": {},
   "source": [
    "## Weitere logische Operatoren\n",
    "Manchmal ist es noetig oder einfach lesbarer mehrere Bedingungen zusammenzufassen. Hierfuer gibt es verschiedene Moeglichkeiten:\n",
    "\n",
    "- `or`: Das logische oder, sprich wenn eins oder beide erfuellt sind (kein Entweder-Oder wie in der deutschen Sprache)"
   ]
  },
  {
   "cell_type": "code",
   "execution_count": null,
   "metadata": {},
   "outputs": [],
   "source": [
    "if beschädigt or zerstört:\n",
    "    objektiver_tatbestand_303_I_stgb = True"
   ]
  },
  {
   "cell_type": "markdown",
   "metadata": {},
   "source": [
    "- `and`: Das logische und"
   ]
  },
  {
   "cell_type": "code",
   "execution_count": null,
   "metadata": {},
   "outputs": [],
   "source": [
    "if sache and fremd and (beschädigt or zerstört):\n",
    "    objektiver_tatbestand_303_I_stgb = True"
   ]
  },
  {
   "cell_type": "markdown",
   "metadata": {},
   "source": [
    "- `not`: Die logische Negierung"
   ]
  },
  {
   "cell_type": "code",
   "execution_count": null,
   "metadata": {},
   "outputs": [],
   "source": [
    "if not (beschädigt and zerstört):\n",
    "    objektiver_tatbestand_303_I_stgb = False"
   ]
  },
  {
   "cell_type": "markdown",
   "metadata": {},
   "source": [
    "# Loops\n",
    "Loops wendet man an, wenn man Dinge mehrfach ausführen möchte. "
   ]
  },
  {
   "cell_type": "code",
   "execution_count": null,
   "metadata": {},
   "outputs": [],
   "source": [
    "gerichtsverfahren = 10\n",
    "for x in range(gerichtsverfahren):\n",
    "    print(\"Im Namen des Volkes ergeht folgendes Urteil\")"
   ]
  },
  {
   "cell_type": "markdown",
   "metadata": {},
   "source": [
    "## TODO: Erklaeren, dass bei 0 angefangen wird zu zaehlen"
   ]
  },
  {
   "cell_type": "code",
   "execution_count": null,
   "metadata": {},
   "outputs": [],
   "source": [
    "help(range) \n",
    "# Zeigt die Dokumentation zu einer bestimmten Funktion oder Bibliothek an."
   ]
  },
  {
   "cell_type": "markdown",
   "metadata": {},
   "source": [
    "Ein Ausschnitt `help(range)`:\n",
    "> Return an object that produces a sequence of integers from start (inclusive)\n",
    "to stop (exclusive) by step.  range(i, j) produces i, i+1, i+2, ..., j-1.\n",
    "start defaults to 0, and stop is omitted!  range(4) produces 0, 1, 2, 3.\n",
    "These are exactly the valid indices for a list of 4 elements.\n",
    "When step is given, it specifies the increment (or decrement)."
   ]
  },
  {
   "cell_type": "markdown",
   "metadata": {},
   "source": [
    "## while loop"
   ]
  },
  {
   "cell_type": "code",
   "execution_count": null,
   "metadata": {},
   "outputs": [],
   "source": [
    "import time\n",
    "n = 0\n",
    "# erhoehe n solange, bis n >= 50 ist.\n",
    "condition = n < 50\n",
    "\n",
    "while condition:\n",
    "    print(n)\n",
    "    n += 5\n",
    "\n",
    "# T hat O beleidigt. Er hat Freiheitsstrafe von einem Jahr erhalten\n",
    "freiheitsstrafe_aktiv = True\n",
    "tag = 0\n",
    "\n",
    "entlassung = False\n",
    "\n",
    "while freiheitsstrafe_aktiv: \n",
    "    tag += 1 # T sitzt nun einen Tag ab\n",
    "    if tag >= 365 || entlassung():\n",
    "        break # bricht den loop ab\n",
    "    if tag < 365:\n",
    "        continue # springt direkt zur Anfangskondition\n",
    "\n",
    "print('Entlassen')"
   ]
  },
  {
   "cell_type": "markdown",
   "metadata": {},
   "source": [
    "## Verschachtelte Schleifen\n",
    "Natuerlich koennen Schleifen auch ineinandergeschrieben werden."
   ]
  },
  {
   "cell_type": "code",
   "execution_count": null,
   "metadata": {},
   "outputs": [],
   "source": [
    "for zaehler1 in range(2):\n",
    "    for zaehler2 in range(3):\n",
    "        print(zaehler1 + \" : \" + zaehler2)"
   ]
  },
  {
   "cell_type": "markdown",
   "metadata": {},
   "source": [
    "Diese geht pro Durchlauf der aeusseren Schleife komplett alle Durchlaeufe der inneren Schleife durch. Es lohnt sich es einfach mal auszuprobieren!"
   ]
  }
 ],
 "metadata": {
  "kernelspec": {
   "display_name": "Python 3",
   "language": "python",
   "name": "python3"
  },
  "language_info": {
   "codemirror_mode": {
    "name": "ipython",
    "version": 3
   },
   "file_extension": ".py",
   "mimetype": "text/x-python",
   "name": "python",
   "nbconvert_exporter": "python",
   "pygments_lexer": "ipython3",
   "version": "3.6.6"
  }
 },
 "nbformat": 4,
 "nbformat_minor": 2
}
