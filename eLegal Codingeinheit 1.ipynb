{
 "cells": [
  {
   "cell_type": "markdown",
   "metadata": {},
   "source": [
    "# eLegal Codingeinheit 1\n",
    "\n",
    "# Comments, Syntax"
   ]
  },
  {
   "cell_type": "code",
   "execution_count": 2,
   "metadata": {},
   "outputs": [],
   "source": [
    "# Hallo liebe Kursteilnehmer\n",
    "# Das hier ist ein Kommentar\n",
    "# Ein Kommentar wird von dem Interpreter ignoriert\n",
    "# Der Interpreter fuert deinen Code aus\n",
    "# Kommentierter Code wird mit einem \"#\" gekennzeichnet\n",
    "# Will man mehrere Zeilen kommentieren, benutzt man das \"\"\" oder '''\n",
    "\n",
    "'''\n",
    "Das hier ist ein praktisches \n",
    "Beispiel\n",
    "'''"
   ]
  },
  {
   "cell_type": "markdown",
   "metadata": {},
   "source": [
    "## Strings"
   ]
  },
  {
   "cell_type": "markdown",
   "metadata": {},
   "source": [
    "Als Strings bezeichnet man Zeichenketten, hierbei ist es wichtig, dass diese entweder innerhalb von `'` oder `\"` ist"
   ]
  },
  {
   "cell_type": "code",
   "execution_count": null,
   "metadata": {},
   "outputs": [],
   "source": [
    "print('Ich \"bin\" interaktiv!')\n",
    "print(\"Ich \\\"bin\\\" interaktiv!\")"
   ]
  },
  {
   "cell_type": "markdown",
   "metadata": {},
   "source": [
    "Zudem kann man Strings mit einem `+` verbinden"
   ]
  },
  {
   "cell_type": "code",
   "execution_count": null,
   "metadata": {},
   "outputs": [],
   "source": [
    "print(\"Hiermit kann man mehrere\" + \"Strings verbinden\")"
   ]
  },
  {
   "cell_type": "markdown",
   "metadata": {},
   "source": [
    "## print\n",
    "Mit der Funktion `print()` können unteranderem Strings wiedergegeben werden."
   ]
  },
  {
   "cell_type": "code",
   "execution_count": null,
   "metadata": {},
   "outputs": [],
   "source": [
    "from elegal_assert import *\n",
    "# Probiere es doch einmal selber\n",
    "# Sorge dafür, dass das Programm \"eLegal ist toll!\" ausgibt.\n",
    "\n",
    "#-----------\n",
    "x = # Hier kommt dein Text hin\n",
    "#-----------\n",
    "\n",
    "def test_string(x):\n",
    "    if x == \"eLegal ist toll!\":\n",
    "        print(x)\n",
    "        print(\"Richtig! Dein input war:\\n {}\".format(x))\n",
    "    elif type(x) != type(\"test\"):\n",
    "        raise Exception(\"Es wurde keine Zeichenkette eingegeben.\\n Wurden die Anfuehrungszeichen vergessen?\")\n",
    "        return\n",
    "    elif (type(x) == type(\"test\")) and (x != \"eLegal ist toll!\"):\n",
    "        raise Exception(\"Falscher Text TODO\") # FIXME\n",
    "    elif (type(x) == type(\"test\")) and (x.upper() == \"eLegal ist toll!\".upper()):\n",
    "        raise Exception(\"Gross- und Kleinschreibung ist wichtig!\")\n",
    "\n",
    "\n",
    "test_string(x) "
   ]
  },
  {
   "cell_type": "markdown",
   "metadata": {},
   "source": [
    "## Integers\n",
    "Neben Strings (Zeichenketten) sind Integer (Ganzzahlen) wichtig. Fuer diese gibt es folgende Operationen"
   ]
  },
  {
   "cell_type": "markdown",
   "metadata": {},
   "source": [
    "## Arithmetische Operationen\n"
   ]
  },
  {
   "cell_type": "code",
   "execution_count": null,
   "metadata": {},
   "outputs": [],
   "source": [
    "print(5 + 2) # 7\n",
    "print(5 - 2) # 3\n",
    "print(14 / 2) # 7\n",
    "print(2 ^ 3) # 8\n",
    "print(11 % 5) # 1"
   ]
  },
  {
   "cell_type": "markdown",
   "metadata": {},
   "source": [
    "Das `%` steht fuer den ganzzahligen Rest einer Division.\n",
    "Hierbei ist es ganz wichtig, dass die Zahlen nicht in Anfuehrungszeichen sind, da sonst wie oben diese einfach nur hintereinandergeschrieben werden"
   ]
  },
  {
   "cell_type": "code",
   "execution_count": null,
   "metadata": {},
   "outputs": [],
   "source": [
    "print(1 + 1) # 2\n",
    "print(\"1\" + \"1\") # 11"
   ]
  },
  {
   "cell_type": "markdown",
   "metadata": {},
   "source": [
    "Rechtsstudent R möchte nach seinem Studium gerne bei KPMG arbeiten. Er hat aber gehört, dass er hier für einen guten Schnitt von mindestens 8 Punkten benötigt.\n",
    "\n",
    "Berechne Rs Punkteschnitt wie folgt:\n",
    "\n",
    "$$\n",
    "\\frac{\\text{Note}_1 + \\text{Note}_2 + \\dots  + \\text{Note}_n}{\\text{Anzahl der Noten}}\n",
    "$$\n"
   ]
  },
  {
   "cell_type": "code",
   "execution_count": null,
   "metadata": {},
   "outputs": [],
   "source": [
    "# Berechne den Schnitt aus diesen drei Noten\n",
    "Klausurschnitt = 6 + 7 + 8\n",
    "\n",
    "\n",
    "def check(x):\n",
    "    if type(x) != type(int):\n",
    "        print(\"Dein berechneter Schnitt ist kein String\")\n",
    "        return\n",
    "    elif x == 7:\n",
    "        print(\"Korrekt der Schnitt ist 7\")\n",
    "        return\n",
    "    else:\n",
    "        print(\"Dein berechneter Schnitt war falsch\")\n",
    "        return"
   ]
  },
  {
   "cell_type": "markdown",
   "metadata": {},
   "source": [
    "## Datentypen\n",
    "Um Datentypen zu verbinden, muss man diese vorher umwandeln. Deswegen ist folgendes ungueltig:"
   ]
  },
  {
   "cell_type": "code",
   "execution_count": null,
   "metadata": {},
   "outputs": [],
   "source": [
    "# Don't\n",
    "print(\"Ich habe \" + 5 + \" Schönfelder\")\n",
    "\n",
    "# Do\n",
    "print(\"Ich habe \" + str(5) + \" Schönfelder\")"
   ]
  },
  {
   "cell_type": "markdown",
   "metadata": {},
   "source": [
    "![witzige eLegal Meme](https://i.imgflip.com/3bz63n.jpg)"
   ]
  },
  {
   "cell_type": "markdown",
   "metadata": {},
   "source": [
    "### kleine praktische Einheit\n",
    "Anwalt A ist fortschrittlich. Um seine Mandanten besser auzunehmen hat er sich einen eigenen Kostenrechner gebaut. Komischerweise kann dieser die Kosten jedoch nicht korrekt wiedergeben. evtl. kannst du ihm ja helfen. \n",
    "\n",
    "Tipp: Nutze hierfuer die von Python gegebenen Fehlermeldungen. "
   ]
  },
  {
   "cell_type": "code",
   "execution_count": null,
   "metadata": {},
   "outputs": [],
   "source": [
    "# Kostenrechner:\n",
    "normale_gebuehr = 200\n",
    "geiz_aufschlag = \"500\"\n",
    "\n",
    "kosten = normale_gebuehr + geiz_aufschlag\n",
    "print(kosten)\n",
    "# Führe das Programm doch einmal aus und korrigiere es anhand der Fehlermeldung"
   ]
  },
  {
   "cell_type": "markdown",
   "metadata": {},
   "source": [
    "## Variablen"
   ]
  },
  {
   "cell_type": "code",
   "execution_count": null,
   "metadata": {},
   "outputs": [],
   "source": [
    "x = 3 # Eine Variable x, welche den Integer 3 haelt\n",
    "\n",
    "s = \"Roxin\" # Eine Variable s, welche den String 'Roxin' haelt\n",
    "\n",
    "y = 7\n",
    "print(x + y) # 10, das Ergebnis der Addition wird ausgegeben\n",
    "print(x) # 3, die Variable x hat ihren Wert nicht geaendert!\n",
    "\n",
    "z = x + y # das Ergebnis der Operation wird in z festgehalten\n",
    "print(z) # 10\n",
    "\n",
    "x = 18 # x wird ein neuer Wert zugewiesen; 3 -> 18 !\n",
    "print(x) # 18\n",
    "\n",
    "# Strings koennen auch mit '+' verkettet werden.\n",
    "print(s + \" ist toll.\") # Roxin ist toll.\n",
    "\n",
    "# Es ist auch moeglich mehrere Variablen gleichzeitig zuzuweisen\n",
    "x, y, z = \"Puppe\", \"Duttge\", \"Ambos\"\n",
    "print(x) # Puppe\n",
    "print(y) # Duttge\n",
    "print(z) # Ambos\n",
    "\n",
    "x = y = z\n",
    "print(x) # Ambos \n",
    "print(y) # Ambos\n",
    "print(z) # Ambos"
   ]
  },
  {
   "cell_type": "markdown",
   "metadata": {},
   "source": [
    "## Division"
   ]
  },
  {
   "cell_type": "code",
   "execution_count": null,
   "metadata": {},
   "outputs": [],
   "source": [
    "x = 10 / 2\n",
    "print(x) # 5\n",
    "\n",
    "x = 5 / 2\n",
    "print(x) # 2.5, eine Fliesskommazahl - eigener Datentyp!"
   ]
  },
  {
   "cell_type": "markdown",
   "metadata": {},
   "source": [
    "Hierbei ist zu beachten, dass Dezimalzahlen mit einem Punkt statt einem Komma getrennt werden."
   ]
  },
  {
   "cell_type": "markdown",
   "metadata": {},
   "source": [
    "## Modulo\n",
    "Schreibe Code, welche mit 1 ausgibt, ob eine Zahl ungerade ist und mit 0, dass sie es nicht ist."
   ]
  },
  {
   "cell_type": "code",
   "execution_count": null,
   "metadata": {},
   "outputs": [],
   "source": [
    "x = 7 # uebergebene Zahl\n",
    "print(x % 2) # 1\n",
    "\n",
    "x = 2\n",
    "print(x % 2) # 0"
   ]
  },
  {
   "cell_type": "markdown",
   "metadata": {},
   "source": [
    "**Aufgabe**: Stelle den Code so um, sodass dieser ein Schaltjahr identifizieren kann.\n",
    "Ein Schaltjahr liegt vor, wenn das Jahr entweder restlos durch 400 teilbar ist oder nicht durch 100 und das Jahr restlos durch 4 teilbar ist.\n"
   ]
  }
 ],
 "metadata": {
  "kernelspec": {
   "display_name": "Python 3",
   "language": "python",
   "name": "python3"
  },
  "language_info": {
   "codemirror_mode": {
    "name": "ipython",
    "version": 3
   },
   "file_extension": ".py",
   "mimetype": "text/x-python",
   "name": "python",
   "nbconvert_exporter": "python",
   "pygments_lexer": "ipython3",
   "version": "3.6.6"
  }
 },
 "nbformat": 4,
 "nbformat_minor": 2
}
