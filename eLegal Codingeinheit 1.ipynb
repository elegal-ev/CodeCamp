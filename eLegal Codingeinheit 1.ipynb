{
 "cells": [
  {
   "cell_type": "markdown",
   "metadata": {},
   "source": [
    "# eLegal Codingeinheit 1\n",
    "\n",
    "# Comments, Syntax"
   ]
  },
  {
   "cell_type": "code",
   "execution_count": 28,
   "metadata": {
    "pycharm": {
     "is_executing": false
    }
   },
   "outputs": [
    {
     "data": {
      "text/plain": [
       "'\\nDas hier ist ein praktisches \\nBeispiel\\n'"
      ]
     },
     "execution_count": 28,
     "metadata": {},
     "output_type": "execute_result"
    }
   ],
   "source": [
    "# Hallo liebe Kursteilnehmer\n",
    "# Das hier ist ein Kommentar\n",
    "# Ein Kommentar wird von dem Interpreter ignoriert\n",
    "# Der Interpreter ist das Ding, das deinen Code quasi ausführt\n",
    "# Kommentierter Code wird mit einem \"#\" gekennzeichnet\n",
    "# Will man mehrere Zeilen kommentieren, benutzt man das \"\"\" oder '''\n",
    "\n",
    "'''\n",
    "Das hier ist ein praktisches \n",
    "Beispiel\n",
    "'''"
   ]
  },
  {
   "cell_type": "markdown",
   "metadata": {},
   "source": [
    "## Strings"
   ]
  },
  {
   "cell_type": "markdown",
   "metadata": {},
   "source": [
    "Als Strings bezeichnet man Zeichenketten, hierbei ist es wichtig, dass diese entweder innerhalb von `'` oder `\"` ist"
   ]
  },
  {
   "cell_type": "code",
   "execution_count": 29,
   "metadata": {
    "pycharm": {
     "is_executing": false
    }
   },
   "outputs": [
    {
     "name": "stdout",
     "output_type": "stream",
     "text": [
      "Ich \"bin\" interaktiv!\n",
      "Ich 'bin' interaktiv!\n"
     ]
    }
   ],
   "source": [
    "print('Ich \"bin\" interaktiv!')\n",
    "print(\"Ich 'bin' interaktiv!\")"
   ]
  },
  {
   "cell_type": "markdown",
   "metadata": {},
   "source": [
    "Zudem kann man Strings mit einem `+` verbinden"
   ]
  },
  {
   "cell_type": "code",
   "execution_count": 30,
   "metadata": {
    "pycharm": {
     "is_executing": false
    }
   },
   "outputs": [
    {
     "name": "stdout",
     "output_type": "stream",
     "text": [
      "Hiermit kann man mehrereStrings verbinden\n"
     ]
    }
   ],
   "source": [
    "print(\"Hiermit kann man mehrere\" + \"Strings verbinden\")"
   ]
  },
  {
   "cell_type": "markdown",
   "metadata": {},
   "source": [
    "## print\n",
    "Mit der Funktion `print()` können unteranderem Strings wiedergegeben werden."
   ]
  },
  {
   "cell_type": "code",
   "execution_count": 31,
   "metadata": {
    "pycharm": {
     "is_executing": false
    }
   },
   "outputs": [
    {
     "name": "stdout",
     "output_type": "stream",
     "text": [
      "\n",
      "Falscher Text TODO\n"
     ]
    }
   ],
   "source": [
    "from elegal_assert import *\n",
    "# Probiere es doch einmal selber\n",
    "# Sorge dafür, dass das Programm \"eLegal ist toll!\" ausgibt.\n",
    "\n",
    "#-----------\n",
    "x = \"\"# Hier kommt dein Text hin\n",
    "print(x)\n",
    "#-----------\n",
    "\n",
    "\n",
    "\n",
    "testat_string(x) "
   ]
  },
  {
   "cell_type": "markdown",
   "metadata": {},
   "source": [
    "## Integers\n",
    "Neben Strings (Zeichenketten) sind Integer (Ganzzahlen) wichtig. Fuer diese gibt es folgende Operationen"
   ]
  },
  {
   "cell_type": "markdown",
   "metadata": {},
   "source": [
    "## Arithmetische Operationen\n"
   ]
  },
  {
   "cell_type": "code",
   "execution_count": 32,
   "metadata": {
    "pycharm": {
     "is_executing": false
    }
   },
   "outputs": [
    {
     "name": "stdout",
     "output_type": "stream",
     "text": [
      "7\n",
      "3\n",
      "7.0\n",
      "1\n",
      "1\n"
     ]
    }
   ],
   "source": [
    "print(5 + 2) # 7\n",
    "print(5 - 2) # 3\n",
    "print(14 / 2) # 7\n",
    "print(2 ^ 3) # 8\n",
    "print(11 % 5) # 1"
   ]
  },
  {
   "cell_type": "markdown",
   "metadata": {},
   "source": [
    "Das `%` steht fuer den ganzzahligen Rest einer Division.\n",
    "Hierbei ist es ganz wichtig, dass die Zahlen nicht in Anfuehrungszeichen sind, da sonst wie oben diese einfach nur hintereinandergeschrieben werden"
   ]
  },
  {
   "cell_type": "code",
   "execution_count": 33,
   "metadata": {
    "pycharm": {
     "is_executing": false
    }
   },
   "outputs": [
    {
     "name": "stdout",
     "output_type": "stream",
     "text": [
      "2\n",
      "11\n"
     ]
    }
   ],
   "source": [
    "print(1 + 1) # 2\n",
    "print(\"1\" + \"1\") # 11"
   ]
  },
  {
   "cell_type": "markdown",
   "metadata": {},
   "source": [
    "Rechtsstudent R möchte nach seinem Studium gerne bei KPMG arbeiten. Er hat aber gehört, dass er hier für einen guten Schnitt von mindestens 8 Punkten benötigt.\n",
    "\n",
    "Berechne Rs Punkteschnitt wie folgt:\n",
    "\n",
    "$$\n",
    "\\frac{\\text{Note}_1 + \\text{Note}_2 + \\dots  + \\text{Note}_n}{\\text{Anzahl der Noten}}\n",
    "$$\n"
   ]
  },
  {
   "cell_type": "code",
   "execution_count": 34,
   "metadata": {
    "pycharm": {
     "is_executing": false
    }
   },
   "outputs": [],
   "source": [
    "# Berechne den Schnitt aus diesen drei Noten\n",
    "Klausurschnitt = 6 + 7 + 8\n",
    "\n",
    "x = \"ersetze diesen String mit der Rechnung. Tipp, verwende die Variable Klausurenschnitt\"\n",
    "\n",
    "\n",
    "klausurenschnitt_check(x)"
   ]
  },
  {
   "cell_type": "markdown",
   "metadata": {},
   "source": [
    "## Datentypen\n",
    "Um Datentypen zu verbinden, muss man diese vorher umwandeln. Deswegen ist folgendes ungueltig:"
   ]
  },
  {
   "cell_type": "code",
   "execution_count": 35,
   "metadata": {
    "pycharm": {
     "is_executing": false
    }
   },
   "outputs": [
    {
     "ename": "TypeError",
     "evalue": "can only concatenate str (not \"int\") to str",
     "output_type": "error",
     "traceback": [
      "\u001b[1;31m---------------------------------------------------------------------------\u001b[0m",
      "\u001b[1;31mTypeError\u001b[0m                                 Traceback (most recent call last)",
      "\u001b[1;32m<ipython-input-35-0a7ae42497c8>\u001b[0m in \u001b[0;36m<module>\u001b[1;34m\u001b[0m\n\u001b[0;32m      1\u001b[0m \u001b[1;31m# Don't\u001b[0m\u001b[1;33m\u001b[0m\u001b[1;33m\u001b[0m\u001b[1;33m\u001b[0m\u001b[0m\n\u001b[1;32m----> 2\u001b[1;33m \u001b[0mprint\u001b[0m\u001b[1;33m(\u001b[0m\u001b[1;34m\"Ich habe \"\u001b[0m \u001b[1;33m+\u001b[0m \u001b[1;36m5\u001b[0m \u001b[1;33m+\u001b[0m \u001b[1;34m\" Schönfelder\"\u001b[0m\u001b[1;33m)\u001b[0m\u001b[1;33m\u001b[0m\u001b[1;33m\u001b[0m\u001b[0m\n\u001b[0m\u001b[0;32m      3\u001b[0m \u001b[1;33m\u001b[0m\u001b[0m\n\u001b[0;32m      4\u001b[0m \u001b[1;31m# Do\u001b[0m\u001b[1;33m\u001b[0m\u001b[1;33m\u001b[0m\u001b[1;33m\u001b[0m\u001b[0m\n\u001b[0;32m      5\u001b[0m \u001b[0mprint\u001b[0m\u001b[1;33m(\u001b[0m\u001b[1;34m\"Ich habe \"\u001b[0m \u001b[1;33m+\u001b[0m \u001b[0mstr\u001b[0m\u001b[1;33m(\u001b[0m\u001b[1;36m5\u001b[0m\u001b[1;33m)\u001b[0m \u001b[1;33m+\u001b[0m \u001b[1;34m\" Schönfelder\"\u001b[0m\u001b[1;33m)\u001b[0m\u001b[1;33m\u001b[0m\u001b[1;33m\u001b[0m\u001b[0m\n",
      "\u001b[1;31mTypeError\u001b[0m: can only concatenate str (not \"int\") to str"
     ]
    }
   ],
   "source": [
    "# Don't\n",
    "print(\"Ich habe \" + 5 + \" Schönfelder\")\n",
    "\n",
    "# Do\n",
    "print(\"Ich habe \" + str(5) + \" Schönfelder\")"
   ]
  },
  {
   "cell_type": "markdown",
   "metadata": {},
   "source": [
    "![witzige eLegal Meme](https://i.imgflip.com/3bz63n.jpg)"
   ]
  },
  {
   "cell_type": "markdown",
   "metadata": {},
   "source": [
    "### kleine praktische Einheit\n",
    "Anwalt A ist fortschrittlich und benutzt zur Berechnung seiner Kosten Python. \n",
    "Irgendwas funktioniert hier jedoch nicht so richtig. Evtl. Kannst du ihm ja helfen.\n",
    "\n",
    "Tipp: Nutze hierfuer die von Python gegebenen Fehlermeldungen. "
   ]
  },
  {
   "cell_type": "code",
   "execution_count": null,
   "metadata": {
    "pycharm": {
     "is_executing": false
    }
   },
   "outputs": [],
   "source": [
    "# Kostenrechner:\n",
    "zwei_stunden = 200\n",
    "schriftsatz_pauschale = \"500\"\n",
    "\n",
    "kosten = zwei_stunden + schriftsatz_pauschale\n",
    "print(kosten)\n",
    "# Führe das Programm doch einmal aus und korrigiere es anhand der Fehlermeldung"
   ]
  },
  {
   "cell_type": "markdown",
   "metadata": {},
   "source": [
    "## Variablen"
   ]
  },
  {
   "cell_type": "code",
   "execution_count": null,
   "metadata": {
    "pycharm": {
     "is_executing": false
    }
   },
   "outputs": [],
   "source": [
    "x = 3 # Eine Variable x, welche den Integer 3 haelt\n",
    "\n",
    "s = \"Roxin\" # Eine Variable s, welche den String 'Roxin' haelt\n",
    "\n",
    "y = 7\n",
    "print(x + y) # 10, das Ergebnis der Addition wird ausgegeben\n",
    "print(x) # 3, die Variable x hat ihren Wert nicht geaendert!\n",
    "\n",
    "z = x + y # das Ergebnis der Operation wird in z festgehalten\n",
    "print(z) # 10\n",
    "\n",
    "x = 18 # x wird ein neuer Wert zugewiesen; 3 -> 18 !\n",
    "print(x) # 18\n",
    "\n",
    "# Strings koennen auch mit '+' verkettet werden.\n",
    "print(s + \" ist toll.\") # Roxin ist toll.\n",
    "\n",
    "# Es ist auch moeglich mehrere Variablen gleichzeitig zuzuweisen\n",
    "x, y, z = \"Puppe\", \"Duttge\", \"Ambos\"\n",
    "print(x) # Puppe\n",
    "print(y) # Duttge\n",
    "print(z) # Ambos\n",
    "\n",
    "x = y = z\n",
    "print(x) # Ambos \n",
    "print(y) # Ambos\n",
    "print(z) # Ambos"
   ]
  },
  {
   "cell_type": "markdown",
   "metadata": {},
   "source": [
    "## Division"
   ]
  },
  {
   "cell_type": "code",
   "execution_count": null,
   "metadata": {
    "pycharm": {
     "is_executing": false
    }
   },
   "outputs": [],
   "source": [
    "x = 10 / 2\n",
    "print(x) # 5\n",
    "\n",
    "x = 5 / 2\n",
    "print(x) # 2.5, eine Fliesskommazahl - eigener Datentyp!"
   ]
  },
  {
   "cell_type": "markdown",
   "metadata": {},
   "source": [
    "Hierbei ist zu beachten, dass Dezimalzahlen mit einem Punkt statt einem Komma getrennt werden."
   ]
  },
  {
   "cell_type": "markdown",
   "metadata": {
    "pycharm": {
     "name": "#%% md\n"
    }
   },
   "source": []
  }
 ],
 "metadata": {
  "kernelspec": {
   "display_name": "Python 3",
   "language": "python",
   "name": "python3"
  },
  "language_info": {
   "codemirror_mode": {
    "name": "ipython",
    "version": 3
   },
   "file_extension": ".py",
   "mimetype": "text/x-python",
   "name": "python",
   "nbconvert_exporter": "python",
   "pygments_lexer": "ipython3",
   "version": "3.7.4"
  },
  "pycharm": {
   "stem_cell": {
    "cell_type": "raw",
    "metadata": {
     "collapsed": false
    },
    "source": []
   }
  }
 },
 "nbformat": 4,
 "nbformat_minor": 2
}
