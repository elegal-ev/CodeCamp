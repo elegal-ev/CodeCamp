{
 "cells": [
  {
   "cell_type": "markdown",
   "metadata": {},
   "source": [
    "# eLegal Codingeinheit 2\n",
    "\n",
    "# Funktionen"
   ]
  },
  {
   "cell_type": "markdown",
   "metadata": {},
   "source": [
    "## Was ist eine Funktion?\n",
    "Eine Funktion ist eine benannte Prozedur. Dies ermoeglicht uns, Code, welchen wir zuvor geschrieben haben, wiederzuverwenden. \n",
    "\n",
    "Funktionen werden mit dem Begriff `def` (engl. define) eingeleitet:"
   ]
  },
  {
   "cell_type": "code",
   "execution_count": null,
   "metadata": {},
   "outputs": [],
   "source": [
    "def hello_world():\n",
    "    print(\"hello world\")\n",
    "    print(\"goodbye world\")"
   ]
  },
  {
   "cell_type": "markdown",
   "metadata": {},
   "source": [
    "Hierbei stellen die Leerzeichen vor den `print()`-Befehlen dar, was zur Funktion gehoert und was nicht. Spiel doch einfach selbst ein wenig mit der Einrueckung rum!\n",
    "\n",
    "Genauso wie bei `print` wird diese einfach mit `()` aufgerufen:"
   ]
  },
  {
   "cell_type": "code",
   "execution_count": null,
   "metadata": {},
   "outputs": [],
   "source": [
    "x = 4\n",
    "hello_world()\n",
    "y = 5"
   ]
  },
  {
   "cell_type": "markdown",
   "metadata": {},
   "source": [
    "Dies entspricht dem folgenden Code\n"
   ]
  },
  {
   "cell_type": "code",
   "execution_count": null,
   "metadata": {},
   "outputs": [],
   "source": [
    "x = 4\n",
    "print(\"hello world\")\n",
    "print(\"goodbye world\")\n",
    "y = 5"
   ]
  },
  {
   "cell_type": "markdown",
   "metadata": {},
   "source": [
    "## Du bist dran. \n",
    "Schreibe eine Funktion, welche \"eLegal ist toll\" ausgibt und nenne sie \"eLegal\""
   ]
  },
  {
   "cell_type": "code",
   "execution_count": null,
   "metadata": {},
   "outputs": [],
   "source": [
    "# hier kommt deine Funktion \"eLegal\" hin\n",
    "\n",
    "\n",
    "func_check(eLegal)\n",
    "\n",
    "def func_check(x):\n",
    "    def type_check():\n",
    "        pass\n",
    "    if type(x) != type(type_check):\n",
    "        print('Du hast keine Funktion deklariert. Hast du an das \"def\" gedacht?')\n",
    "    \n",
    "    else:\n",
    "        print(\"Super, du hast erfolgreich eine Funktion deklariert\") \n",
    "        #todo check if die Funktion wirklich elegal bla bla printed"
   ]
  },
  {
   "cell_type": "markdown",
   "metadata": {},
   "source": [
    "## Parameter\n",
    "Betrachten wir folgende Problemstellung:\n",
    "\n",
    "Anwalt A hat in seiner Kanzelei zahlreiche Mandanten, die er taeglich mit einer netten Email begruesst. Nachdem er durch seine Kooperation mit eLegal e.V. exponentielle Wachstueme erreicht hat, schrieb er Funktionen, die diese Aufgabe fuer ihn trivialisieren. Nun muss er für jeden seiner Mandanten eine komplett neue Funktion schreiben."
   ]
  },
  {
   "cell_type": "code",
   "execution_count": null,
   "metadata": {},
   "outputs": [],
   "source": [
    "def gruss_an_alice():\n",
    "    print(\"Gruss Alice!\")\n",
    "def gruss_an_bob():\n",
    "    print(\"Gruss Bob\")\n",
    "# ...\n",
    "# ..."
   ]
  },
  {
   "cell_type": "markdown",
   "metadata": {},
   "source": [
    "Gott sei Dank gibt es hierfuer Funktionsargumente!\n"
   ]
  },
  {
   "cell_type": "code",
   "execution_count": null,
   "metadata": {},
   "outputs": [],
   "source": [
    "def gruss(name):\n",
    "    print(\"Gruss \" + name + \"!\")\n",
    "    \n",
    "# Analog mit mehreren Parametern\n",
    "def langer_gruss(vorname, nachname, titel, wohnort):\n",
    "    print(\"Gruss \" + titel + \" \" + vorname + \" \" \n",
    "          + \" \" + nachname + \" aus \" + wohnort )\n",
    "\n",
    "# TODO: Gucken ob die Funktion aufgerufen wurde."
   ]
  },
  {
   "cell_type": "markdown",
   "metadata": {},
   "source": [
    "## Schlüsselwortargument\n",
    "Schlüsselwortargumente werden verwendet um Argumenten einen Standardwert zuzuweisen"
   ]
  },
  {
   "cell_type": "code",
   "execution_count": null,
   "metadata": {},
   "outputs": [],
   "source": [
    "# Diese Funktion efordert zwangsweise die Weitergabe eines Parameters\n",
    "def no_keyword(name):\n",
    "    print(\"Hallo \"+name)\n",
    "# Diese Funktion kann ohne Parameter aufgerufen werden\n",
    "def yes_keyword(name=\"Nutzer\"):\n",
    "    print(\"Hallo \"+name)"
   ]
  },
  {
   "cell_type": "markdown",
   "metadata": {},
   "source": [
    "Dies führt dazu, dass no_keyword nicht ohne ein Parameter aufgerufen werden kann. \n",
    "`yes_keyword` hingegen schon"
   ]
  },
  {
   "cell_type": "code",
   "execution_count": null,
   "metadata": {},
   "outputs": [],
   "source": [
    "no_keyword(\"eLegal\")\n",
    "yes_keyword()"
   ]
  },
  {
   "cell_type": "markdown",
   "metadata": {},
   "source": [
    "Möchte man im Fall von yes_keyword vom Standard abweichen, so muss man die Funktion lediglich normal aufrufen und ein Parameter angeben. Der Standard wird dann sozusagen überschrieben."
   ]
  },
  {
   "cell_type": "code",
   "execution_count": null,
   "metadata": {},
   "outputs": [],
   "source": [
    "yes_keyword(\"Neuer Parameter\")"
   ]
  },
  {
   "cell_type": "markdown",
   "metadata": {},
   "source": [
    "## Rueckgabewerte\n",
    "Damit die Ergebnisse deiner Funktion nicht nach dem printen verloren gehen, gibt es das sogenannte `return`-Schluesselwort"
   ]
  },
  {
   "cell_type": "code",
   "execution_count": null,
   "metadata": {},
   "outputs": [],
   "source": [
    "def plusZwei(zahl):\n",
    "    return zahl+2\n",
    "\n",
    "sechs = plusZwei(4)\n",
    "print(sechs) # 6"
   ]
  },
  {
   "cell_type": "markdown",
   "metadata": {},
   "source": [
    "Versuch einfach mal das obige Beispiel so zu veraendern, dass die Funktion die eingegebene Zahl mal sich selbst nimmt!\n",
    "\n",
    "## Variablengültigkeitsbereich\n",
    "Parameter und Variablen sind nicht in allen Bereichen des Codes verwendbar, sondern sind auf ihre jeweiligen Bereiche beschränkt.\n",
    "\n",
    "Betrachten wir hierzu eine Deutschdarstellung."
   ]
  },
  {
   "cell_type": "code",
   "execution_count": null,
   "metadata": {},
   "outputs": [],
   "source": [
    "begruessung = \"Guten Tag\"\n",
    "verabschiedung = \"Auf Wiedersehen\""
   ]
  },
  {
   "cell_type": "markdown",
   "metadata": {},
   "source": [
    "Jeder hat Zugriff auf Hochdeutsch.\n",
    "\n",
    "Betrachten wir diese Darstellung nun unter der Voraussetzung, dass sich außerdem Sprachbarrieren gebildet haben, welche in Funktionen dargestellt sind.\n"
   ]
  },
  {
   "cell_type": "code",
   "execution_count": null,
   "metadata": {},
   "outputs": [],
   "source": [
    "begruessung = \"Guten Tag\"\n",
    "verabschiedung = \"Auf Wiedersehen\"\n",
    "\n",
    "def bayrisch():\n",
    "    bayrische_begruessung = \"Griass Di\""
   ]
  },
  {
   "cell_type": "markdown",
   "metadata": {},
   "source": [
    "Hier kann jeder Bayer auf die allgemeingültige Begrüßung \"Guten Tag\" zugreifen. Hinzukommend aber auch auf die bayrische.\n",
    "Jemand außerhalb des bayrischen Anwendungsbereiches kann dies nicht. Denn er weiß nicht was es bedeutet und kann bayrisch nicht verstehen. \n",
    "\n",
    "Probiere, zur Veranschaulichung, die Ausführung folgenden Codes. Er sollte eine Fehlermeldung hervorrufen."
   ]
  },
  {
   "cell_type": "code",
   "execution_count": null,
   "metadata": {},
   "outputs": [],
   "source": [
    "begruessung = \"Guten Tag\"\n",
    "verabschiedung = \"Auf Wiedersehen\"\n",
    "\n",
    "def bayrisch():\n",
    "    bayrische_begruessung = \"Griass Di\"\n",
    "\n",
    "print(bayrische_begruessung)"
   ]
  }
 ],
 "metadata": {
  "kernelspec": {
   "display_name": "Python 3",
   "language": "python",
   "name": "python3"
  },
  "language_info": {
   "codemirror_mode": {
    "name": "ipython",
    "version": 3
   },
   "file_extension": ".py",
   "mimetype": "text/x-python",
   "name": "python",
   "nbconvert_exporter": "python",
   "pygments_lexer": "ipython3",
   "version": "3.6.6"
  }
 },
 "nbformat": 4,
 "nbformat_minor": 2
}
