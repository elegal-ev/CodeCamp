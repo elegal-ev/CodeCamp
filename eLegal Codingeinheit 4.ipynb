{
 "cells": [
  {
   "cell_type": "markdown",
   "metadata": {},
   "source": [
    "# Listen\n",
    "\n",
    "## Was ist eine Liste?\n",
    "Eine Liste ist eine geordnete Sammlung von Pythonobjekten "
   ]
  },
  {
   "cell_type": "code",
   "execution_count": null,
   "metadata": {},
   "outputs": [],
   "source": [
    "jura_starter_kit = [\"Bootsschuhe\",\"Polohemd\",\"Montblancstift\"]"
   ]
  },
  {
   "cell_type": "markdown",
   "metadata": {},
   "source": [
    "Die Objekte in der Liste müssen jedoch nicht alle vom selben Typ sein, sondern koennen auch verschiedene Typen beinhalten. "
   ]
  },
  {
   "cell_type": "code",
   "execution_count": null,
   "metadata": {},
   "outputs": [],
   "source": [
    "verschiedenes = [\"ich bin ein string\", 12345]"
   ]
  },
  {
   "cell_type": "markdown",
   "metadata": {},
   "source": [
    "Auf die einzelnen Elemente der Liste kann ueber den Index zugegriffen werden.\n",
    "\n"
   ]
  },
  {
   "cell_type": "code",
   "execution_count": null,
   "metadata": {},
   "outputs": [],
   "source": [
    "verschiedenes = [\"ich bin ein string\", 12345]\n",
    "print(verschiedenes[0])"
   ]
  },
  {
   "cell_type": "markdown",
   "metadata": {},
   "source": [
    "**Achtung!** In der IT Welt fängt man mit dem Zählen bei 0 und nicht bei 1 an.\n",
    "\n",
    "Probier es einmal selber und wähle \"JURA\" aus der unten stehenden Liste aus"
   ]
  },
  {
   "cell_type": "code",
   "execution_count": null,
   "metadata": {},
   "outputs": [],
   "source": [
    "studiengaenge = [\"BWL\", \"INFO\", \"POWI\", \"JURA\"]\n",
    "\n",
    "studiengang = studiengaenge# wähle das richtige Objekt aus der Liste\n",
    "\n",
    "def listcheck(x):\n",
    "    if type(x) == type([]):\n",
    "        print(\"Du hast die komplette Liste ausgewählt. Denk an den Index.\")\n",
    "        return\n",
    "    if type(x) == <class 'builtin_function_or_method'>:\n",
    "        print(\"Du sollst nur das Element auswählen, nicht aber printen\")\n",
    "        return\n",
    "    if type(x) == <class '<class 'NoneType'>'>:\n",
    "        print(\"Du sollst nur das Element auswählen, nicht aber printen\")\n",
    "        return\n",
    "    if x == \"JURA\":\n",
    "        print(\"Super, alles richtig gemacht.\")\n",
    "        return\n",
    "    else:\n",
    "        if type(x) == str:\n",
    "            print(\"Falsches Element. Dein gewähltes Element ist {}.\".format(x))\n",
    "            return\n",
    "        else:\n",
    "            print(\"Irgendetwas ist falsch.\")\n",
    "            return"
   ]
  },
  {
   "cell_type": "markdown",
   "metadata": {},
   "source": [
    "Zuletzt koennen Listen auch mit dem `+`-Operator verbunden werden"
   ]
  },
  {
   "cell_type": "code",
   "execution_count": null,
   "metadata": {},
   "outputs": [],
   "source": [
    "jura_starter_kit2 = [\"MacBook\", \"Airpods\"]\n",
    "print(jura_starter_kit + jura_starter_kit2)"
   ]
  },
  {
   "cell_type": "markdown",
   "metadata": {},
   "source": [
    "## Listen und Schleifen\n",
    "Listen kann man auch wie folgt auf `for`-Schleifen anwenden"
   ]
  },
  {
   "cell_type": "code",
   "execution_count": null,
   "metadata": {},
   "outputs": [],
   "source": [
    "einkaufszettel = [\"BGB\", \"STGB\", \"Notizblock\", \"Taschentücher\"]\n",
    "\n",
    "for produkt in einkaufszettel:\n",
    "    print(\"Du musst noch \" + produkt + \" kaufen!\")"
   ]
  },
  {
   "cell_type": "markdown",
   "metadata": {},
   "source": [
    "Hierbei kann man sich gesondert `range()` angucken. Dies ist zwar intern keine Liste, aber kann einfach zu einer gemacht werden, indem man hierauf die `list()`-Funktion anwendet"
   ]
  },
  {
   "cell_type": "code",
   "execution_count": null,
   "metadata": {},
   "outputs": [],
   "source": [
    "print(\"Range als rangeobjekt: \", range(10))\n",
    "print(\"Range als Listenobkekt: \", list(range(10)))"
   ]
  },
  {
   "cell_type": "markdown",
   "metadata": {},
   "source": [
    "## Negatives Indexieren\n",
    "Man stelle sich die List wie ein Regler am Herd vor. Die einzelnen Eintraege wie die Stufen der Waermezufur sind die Indizes der Listeneintraege."
   ]
  },
  {
   "cell_type": "code",
   "execution_count": null,
   "metadata": {},
   "outputs": [],
   "source": [
    "regler = [\"low\", \"medium low\", \"medium\", \"medium high\", \"high\"]\n",
    "\n",
    "for stufe in range(len(regler)):\n",
    "    print(regler[stufe])\n",
    "\n",
    "# Output:\n",
    "# \tlow\n",
    "#\tmedium low\n",
    "#\tmedium\n",
    "#\tmedium high\n",
    "#       high"
   ]
  },
  {
   "cell_type": "markdown",
   "metadata": {},
   "source": [
    "Intuitiv koennte man behaupten, dass bei einer Verschiebung des Reglers in die linke Orientierung der Listeneintrag um eins erhoeht (inkrementiert) wird.\n",
    "\n"
   ]
  },
  {
   "cell_type": "code",
   "execution_count": null,
   "metadata": {},
   "outputs": [],
   "source": [
    "regler = [\"low\", \"medium low\", \"medium\", \"medium high\", \"high\"]\n",
    "print(regler[0]) # low\n",
    "print(regler[1]) # medium low"
   ]
  },
  {
   "cell_type": "markdown",
   "metadata": {},
   "source": [
    "Im Gegensatz dazu ist es auch moeglich, den Regler in die entgegengesetzte Richtung zu bewegen. Will man den Regler von der Ausgangsposition einen Eintrag nach links bewegen, so ist die Ausgangsposition um eins verringert (dekrementiert).\n",
    "\n"
   ]
  },
  {
   "cell_type": "code",
   "execution_count": null,
   "metadata": {},
   "outputs": [],
   "source": [
    "regler = [\"low\", \"medium low\", \"medium\", \"medium high\", \"high\"]\n",
    "print(regler[0]) # low\n",
    "print(regler[-1]) # high"
   ]
  },
  {
   "cell_type": "markdown",
   "metadata": {},
   "source": [
    "## Funktionen auf Listen\n",
    "Zudem gibt es viele praktische Funktionen fuer Listen!\n",
    "\n",
    "- `append`:\n",
    "Die Funktion `append()` fuegt der Liste am Ende ein neues Element hinzu."
   ]
  },
  {
   "cell_type": "code",
   "execution_count": null,
   "metadata": {},
   "outputs": [],
   "source": [
    "def fragen_filtern(liste):\n",
    "    liste_an_fragen = []\n",
    "    for satz in liste:\n",
    "        # Hierbei beschreibt satz[-1] das letzte Zeichen von String \n",
    "        if satz[-1] == \"?\":\n",
    "            liste_an_fragen.append(satz)\n",
    "    return liste_an_fragen\n",
    "\n",
    "liste_an_saetzen = [\n",
    "    \"Hallo.\",\n",
    "    \"Wie geht es dir?\",\n",
    "    \"Auf Wiedersehen!\",\n",
    "    \"Welcher Tag ist heute?\"\n",
    "]\n",
    "print(fragen_filtern(liste_an_saetzen))"
   ]
  },
  {
   "cell_type": "markdown",
   "metadata": {},
   "source": [
    "Hierbei kann das `variable.funktion()` erstmal so interpretiert werden, dass sich die Funktion auf die Variable bezieht.\n",
    "\n",
    "\n",
    "- `len()`: \n",
    "Gibt die Laenge (engl. length) der Liste zurueck."
   ]
  },
  {
   "cell_type": "code",
   "execution_count": null,
   "metadata": {},
   "outputs": [],
   "source": [
    "print(len([\"a\", \"b\", \"c\", \"d\", \"e\"]))"
   ]
  },
  {
   "cell_type": "markdown",
   "metadata": {},
   "source": [
    "- `count()`: \n",
    "Wie oft ein einzelnes Element in einer Liste vorhanden ist."
   ]
  },
  {
   "cell_type": "code",
   "execution_count": null,
   "metadata": {},
   "outputs": [],
   "source": [
    "punktzahlen = [4, 5, 3, 4, 2, 6, 8, 4]\n",
    "print(punktzahlen.count(4))"
   ]
  },
  {
   "cell_type": "markdown",
   "metadata": {},
   "source": [
    "- `sort()`: \n",
    "Ordnet die Liste aufsteigend. Hierbei wird die Liste veraendert."
   ]
  },
  {
   "cell_type": "code",
   "execution_count": null,
   "metadata": {},
   "outputs": [],
   "source": [
    "paar_zahlen = [3,1,2,8,5]\n",
    "print(\"Ungeordnet: \" + paar_zahlen)\n",
    "paar_zahlen.sort()\n",
    "print(\"Geordnet: \" + paar_zahlen)"
   ]
  },
  {
   "cell_type": "markdown",
   "metadata": {},
   "source": [
    "Zudem gibt es noch viele weitere Methoden, allgemein lohnt es sich immer in die Dokumentation zu schauen oder einfach mal zu googlen!\n",
    "\n",
    "## Verschachtelte Listen\n",
    "Zudem koennen Listen intuitiv verschachtelt werden, sprich Listen koennen auch Elemente einer Liste sein."
   ]
  },
  {
   "cell_type": "code",
   "execution_count": null,
   "metadata": {},
   "outputs": [],
   "source": [
    "arten_von_juristen = [[\"ein\", \"element\"], [\"Noch\", \"Eine\", \"Liste\"]]\n",
    "\n",
    "# Um die erste Liste zu erreichen\n",
    "print(arten_von_juristen[0])\n",
    "# Um das Wort \"ein\" zu erreichen\n",
    "print((arten_von_juristen[0])[0])"
   ]
  },
  {
   "cell_type": "markdown",
   "metadata": {},
   "source": [
    "## List Comprehension\n",
    "Mit \"List Comprehensions\" bietet Python eine gute Möglichkeit Listen einfacher zu erstellen. \n",
    "\n",
    "Die einfachste Form einer List Comprehension ist folgende:\n",
    "`[funktion(x) for x in liste]`\n",
    "was man lesen kann wie\n",
    "\"Nimm dir jedes Element aus der Liste, wende `funktion` drauf an, und dann pack es wieder zurueck.\"\n",
    "\n",
    "Hier ein Beispiel:"
   ]
  },
  {
   "cell_type": "code",
   "execution_count": null,
   "metadata": {},
   "outputs": [],
   "source": [
    "studenten=[\"tim\",\"theodor\",\"justus\",\"kevin\"]\n",
    "\n",
    "# Setzt Ausrufezeichen hinter jedes Element\n",
    "def ausrufezeichen_setzen(string):\n",
    "    return string + \"!\"\n",
    "\n",
    "studenten_mit_ausrufezeichen = [ausrufezeichen_setzen(name) for name in studenten]\n",
    "print(studenten_mit_ausrifezeichen)"
   ]
  },
  {
   "cell_type": "markdown",
   "metadata": {},
   "source": [
    "Diese List Erstellung kann auch mit einer Bedingung verbunden werden"
   ]
  },
  {
   "cell_type": "code",
   "execution_count": null,
   "metadata": {},
   "outputs": [],
   "source": [
    "studenten=[\"tim\",\"theodor\",\"justus\",\"kevina\"]\n",
    "\n",
    "# Setzt Ausrufezeichen hinter jedem Element\n",
    "def ausrufezeichen_setzen(string):\n",
    "    return string + \"!\"\n",
    "\n",
    "studenten_mit_ausrufezeichen = [ausrufezeichen_setzen(name) for name in studenten if name[0] == \"t\"]\n",
    "print(studenten_mit_ausrufezeichen)"
   ]
  }
 ],
 "metadata": {
  "kernelspec": {
   "display_name": "Python 3",
   "language": "python",
   "name": "python3"
  },
  "language_info": {
   "codemirror_mode": {
    "name": "ipython",
    "version": 3
   },
   "file_extension": ".py",
   "mimetype": "text/x-python",
   "name": "python",
   "nbconvert_exporter": "python",
   "pygments_lexer": "ipython3",
   "version": "3.7.4"
  }
 },
 "nbformat": 4,
 "nbformat_minor": 2
}
